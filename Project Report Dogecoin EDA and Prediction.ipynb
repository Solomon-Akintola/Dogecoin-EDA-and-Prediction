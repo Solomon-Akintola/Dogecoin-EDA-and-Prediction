{
 "cells": [
  {
   "cell_type": "markdown",
   "id": "7a562fc6",
   "metadata": {},
   "source": [
    "## Project Report: Dogecoin EDA and Prediction\n",
    "\n",
    "#### Dataset Description\n",
    "The dataset used in this project comprises historical price data of Dogecoin, sourced from Yahoo Finance. The dataset includes the following columns:\n",
    "- **Date**: The trading date\n",
    "- **Open**: Opening price on the trading day\n",
    "- **High**: Highest price during the trading day\n",
    "- **Low**: Lowest price during the trading day\n",
    "- **Close**: Closing price on the trading day\n",
    "- **Adj Close**: Adjusted closing price accounting for corporate actions\n",
    "- **Volume**: The volume of Dogecoin traded on that day\n",
    "\n",
    "### Insights from Dogecoin Data Visualizations\n",
    "\n",
    "####  Dogecoin Closing Price Over Time\n",
    "![Dogecoin Closing Price Over Time]\n",
    "\n",
    "- **Trend**: The closing price shows significant fluctuations. There is a notable upward trend starting from early 2024, peaking around March 2024, and then declining.\n",
    "- **Volatility**: The price volatility increases significantly in 2024 compared to 2023, indicating heightened market activity and possible speculative trading.\n",
    "\n",
    "####  Dogecoin Trading Volume Over Time\n",
    "![Dogecoin Trading Volume Over Time]\n",
    "\n",
    "- **Volume Spikes**: The trading volume shows multiple spikes, especially in early 2024, aligning with the peak in price. This indicates a period of high trading activity and interest in Dogecoin.\n",
    "- **Correlation with Price**: The trading volume increases before the price peak, suggesting that high trading activity might be a precursor to price movements.\n",
    "\n",
    "####  Dogecoin High and Low Prices Over Time\n",
    "![Dogecoin High and Low Prices Over Time]\n",
    "- **High vs. Low Prices**: Both high and low prices follow a similar trend, with the high prices consistently above the low prices. The gap between high and low prices widens significantly around the peak, indicating increased price volatility.\n",
    "- **Market Sentiment**: The alignment of high and low prices with the overall trend suggests market sentiment and investor behavior closely following the price movements.\n",
    "\n",
    "####  Dogecoin Closing Price and Moving Averages\n",
    "![Dogecoin Closing Price and Moving Averages](sandbox:/mnt/data/image.png)\n",
    "\n",
    "- **Moving Averages**: The 50-day moving average (red line) and 200-day moving average (green line) provide a smoothed view of price trends. The 50-day MA reacts quicker to price changes, showing the short-term trend, while the 200-day MA shows the long-term trend.\n",
    "- **Golden and Death Crosses**: The \"golden cross\" (50-day MA crossing above 200-day MA) around January 2024 indicates a bullish trend. A potential \"death cross\" (50-day MA crossing below 200-day MA) might signal a bearish trend if the decline continues.\n",
    "\n",
    "### Summary of Insights To EDA\n",
    "\n",
    "1. **Increased Volatility and Trading Activity**: The significant price volatility and volume spikes in early 2024 suggest increased interest and speculative trading in Dogecoin during this period.\n",
    "2. **Price Trends**: The price peak around March 2024 followed by a decline indicates a rapid rise and fall, characteristic of speculative bubbles or market corrections.\n",
    "3. **Moving Averages**: The moving averages help smooth out the short-term fluctuations, providing a clearer picture of long-term trends. The \"golden cross\" and potential \"death cross\" are key indicators of market sentiment shifts.\n",
    "\n",
    "#### Prediction\n",
    "A linear regression model was used to predict Dogecoin's closing prices based on date information. The steps involved were:\n",
    "1. **Data Preparation**: Converted the date to an ordinal value for numerical analysis and split the data into training and testing sets.\n",
    "2. **Model Training**: Trained a linear regression model using the training dataset.\n",
    "3. **Prediction**: Used the model to predict closing prices on the test dataset.\n",
    "4. **Evaluation**: The model's performance was evaluated using the Mean Squared Error (MSE), which was found to be approximately 0.00058.\n",
    "\n",
    "#### Conclusion\n",
    "In this project, I successfully conducted an EDA to uncover insights about Dogecoin's historical price trends, trading volumes, and volatility. The linear regression model provided a basic prediction mechanism for Dogecoin's closing prices, although the model's performance might be improved with more sophisticated techniques."
   ]
  }
 ],
 "metadata": {
  "kernelspec": {
   "display_name": "Python 3 (ipykernel)",
   "language": "python",
   "name": "python3"
  },
  "language_info": {
   "codemirror_mode": {
    "name": "ipython",
    "version": 3
   },
   "file_extension": ".py",
   "mimetype": "text/x-python",
   "name": "python",
   "nbconvert_exporter": "python",
   "pygments_lexer": "ipython3",
   "version": "3.10.9"
  }
 },
 "nbformat": 4,
 "nbformat_minor": 5
}
